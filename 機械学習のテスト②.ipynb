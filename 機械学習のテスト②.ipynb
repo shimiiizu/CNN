{
  "nbformat": 4,
  "nbformat_minor": 0,
  "metadata": {
    "colab": {
      "provenance": [],
      "authorship_tag": "ABX9TyObeaFZ/YWhuphR8QAnGqJ+",
      "include_colab_link": true
    },
    "kernelspec": {
      "name": "python3",
      "display_name": "Python 3"
    },
    "language_info": {
      "name": "python"
    }
  },
  "cells": [
    {
      "cell_type": "markdown",
      "metadata": {
        "id": "view-in-github",
        "colab_type": "text"
      },
      "source": [
        "<a href=\"https://colab.research.google.com/github/shimiiizu/CNN/blob/main/%E6%A9%9F%E6%A2%B0%E5%AD%A6%E7%BF%92%E3%81%AE%E3%83%86%E3%82%B9%E3%83%88%E2%91%A1.ipynb\" target=\"_parent\"><img src=\"https://colab.research.google.com/assets/colab-badge.svg\" alt=\"Open In Colab\"/></a>"
      ]
    },
    {
      "cell_type": "code",
      "execution_count": null,
      "metadata": {
        "id": "8_8XCMqPpxii"
      },
      "outputs": [],
      "source": [
        "import tensorflow as tf\n",
        "from tensorflow.keras.layers import Conv2D, MaxPooling2D, Flatten, Dense\n",
        "from tensorflow.keras.models import Sequential\n",
        "from sklearn.model_selection import train_test_split\n",
        "import numpy as np"
      ]
    },
    {
      "cell_type": "code",
      "source": [
        "# ダミーデータを生成（仮の例）\n",
        "num_samples = 1000\n",
        "image_height, image_width = 64, 64\n",
        "num_classes = 1  # 年齢を回帰として扱うため、クラス数は1\n",
        "\n",
        "X = np.random.rand(num_samples, image_height, image_width, 3)  # 3チャンネルのカラー画像\n",
        "y = np.random.randint(1, 100, size=num_samples)  # 年齢ラベル（1から100歳までのランダムな年齢）"
      ],
      "metadata": {
        "id": "tFRyLo3np66I"
      },
      "execution_count": null,
      "outputs": []
    },
    {
      "cell_type": "code",
      "source": [
        "y.shape"
      ],
      "metadata": {
        "colab": {
          "base_uri": "https://localhost:8080/"
        },
        "id": "aEz-wRaitRc4",
        "outputId": "c51a8ced-d2ed-477b-aae0-72a1229a9ec9"
      },
      "execution_count": null,
      "outputs": [
        {
          "output_type": "execute_result",
          "data": {
            "text/plain": [
              "(1000,)"
            ]
          },
          "metadata": {},
          "execution_count": 14
        }
      ]
    },
    {
      "cell_type": "code",
      "source": [
        "X.shape"
      ],
      "metadata": {
        "colab": {
          "base_uri": "https://localhost:8080/"
        },
        "id": "brBAKTZHp9cu",
        "outputId": "e9a925e9-8d45-4199-a585-9246cc52ea22"
      },
      "execution_count": null,
      "outputs": [
        {
          "output_type": "execute_result",
          "data": {
            "text/plain": [
              "(1000, 64, 64, 3)"
            ]
          },
          "metadata": {},
          "execution_count": 3
        }
      ]
    },
    {
      "cell_type": "code",
      "source": [
        "X_train, X_test, y_train, y_test = train_test_split(X, y, test_size=0.2, random_state=42)"
      ],
      "metadata": {
        "id": "Ob8uttKWqAuX"
      },
      "execution_count": null,
      "outputs": []
    },
    {
      "cell_type": "code",
      "source": [
        "# CNNモデルの構築\n",
        "model = Sequential([\n",
        "    Conv2D(32, (3, 3), activation='relu', input_shape=(image_height, image_width, 3)),\n",
        "    MaxPooling2D((2, 2)),\n",
        "    Conv2D(64, (3, 3), activation='relu'),\n",
        "    MaxPooling2D((2, 2)),\n",
        "    Flatten(),\n",
        "    Dense(128, activation='relu'),\n",
        "    Dense(num_classes)  # 年齢を回帰として扱うため、出力層のノード数は1\n",
        "])"
      ],
      "metadata": {
        "id": "2DKZkMTOqDBX"
      },
      "execution_count": null,
      "outputs": []
    },
    {
      "cell_type": "code",
      "source": [
        "# モデルのコンパイル\n",
        "model.compile(optimizer='adam', loss='mean_squared_error')"
      ],
      "metadata": {
        "id": "s_UDSKl9qKMP"
      },
      "execution_count": null,
      "outputs": []
    },
    {
      "cell_type": "code",
      "source": [
        "# モデルのトレーニング\n",
        "model.fit(X_train, y_train, epochs=10, batch_size=32, validation_split=0.1)"
      ],
      "metadata": {
        "colab": {
          "base_uri": "https://localhost:8080/"
        },
        "id": "YimCfuLaqXNX",
        "outputId": "187764a0-6783-4ad9-afc5-c903137d052d"
      },
      "execution_count": null,
      "outputs": [
        {
          "output_type": "stream",
          "name": "stdout",
          "text": [
            "Epoch 1/10\n",
            "23/23 [==============================] - 4s 118ms/step - loss: 1225.5432 - val_loss: 775.5894\n",
            "Epoch 2/10\n",
            "23/23 [==============================] - 2s 97ms/step - loss: 879.8605 - val_loss: 757.8955\n",
            "Epoch 3/10\n",
            "23/23 [==============================] - 2s 97ms/step - loss: 844.7773 - val_loss: 770.3604\n",
            "Epoch 4/10\n",
            "23/23 [==============================] - 2s 98ms/step - loss: 868.7908 - val_loss: 772.2181\n",
            "Epoch 5/10\n",
            "23/23 [==============================] - 3s 115ms/step - loss: 854.6258 - val_loss: 753.4807\n",
            "Epoch 6/10\n",
            "23/23 [==============================] - 3s 109ms/step - loss: 850.5839 - val_loss: 766.6779\n",
            "Epoch 7/10\n",
            "23/23 [==============================] - 2s 96ms/step - loss: 836.7766 - val_loss: 788.7697\n",
            "Epoch 8/10\n",
            "23/23 [==============================] - 2s 97ms/step - loss: 855.7324 - val_loss: 770.5054\n",
            "Epoch 9/10\n",
            "23/23 [==============================] - 2s 106ms/step - loss: 852.9100 - val_loss: 751.9606\n",
            "Epoch 10/10\n",
            "23/23 [==============================] - 3s 147ms/step - loss: 839.8440 - val_loss: 809.1995\n"
          ]
        },
        {
          "output_type": "execute_result",
          "data": {
            "text/plain": [
              "<keras.src.callbacks.History at 0x7d54065bfb20>"
            ]
          },
          "metadata": {},
          "execution_count": 10
        }
      ]
    },
    {
      "cell_type": "code",
      "source": [
        "# モデルの評価\n",
        "loss = model.evaluate(X_test, y_test)\n",
        "print(f'Test loss: {loss}')"
      ],
      "metadata": {
        "colab": {
          "base_uri": "https://localhost:8080/"
        },
        "id": "cJVIDcywqo4u",
        "outputId": "811fa296-0eab-498e-b1de-6fa89ad6b3ea"
      },
      "execution_count": null,
      "outputs": [
        {
          "output_type": "stream",
          "name": "stdout",
          "text": [
            "7/7 [==============================] - 0s 25ms/step - loss: 871.8033\n",
            "Test loss: 871.8033447265625\n"
          ]
        }
      ]
    },
    {
      "cell_type": "code",
      "source": [
        "model.summary()"
      ],
      "metadata": {
        "colab": {
          "base_uri": "https://localhost:8080/"
        },
        "id": "vbZmDkleqw03",
        "outputId": "2f76720c-753f-4ff5-c723-f1b8ddada71a"
      },
      "execution_count": null,
      "outputs": [
        {
          "output_type": "stream",
          "name": "stdout",
          "text": [
            "Model: \"sequential\"\n",
            "_________________________________________________________________\n",
            " Layer (type)                Output Shape              Param #   \n",
            "=================================================================\n",
            " conv2d (Conv2D)             (None, 62, 62, 32)        896       \n",
            "                                                                 \n",
            " max_pooling2d (MaxPooling2  (None, 31, 31, 32)        0         \n",
            " D)                                                              \n",
            "                                                                 \n",
            " conv2d_1 (Conv2D)           (None, 29, 29, 64)        18496     \n",
            "                                                                 \n",
            " max_pooling2d_1 (MaxPoolin  (None, 14, 14, 64)        0         \n",
            " g2D)                                                            \n",
            "                                                                 \n",
            " flatten (Flatten)           (None, 12544)             0         \n",
            "                                                                 \n",
            " dense (Dense)               (None, 128)               1605760   \n",
            "                                                                 \n",
            " dense_1 (Dense)             (None, 1)                 129       \n",
            "                                                                 \n",
            "=================================================================\n",
            "Total params: 1625281 (6.20 MB)\n",
            "Trainable params: 1625281 (6.20 MB)\n",
            "Non-trainable params: 0 (0.00 Byte)\n",
            "_________________________________________________________________\n"
          ]
        }
      ]
    },
    {
      "cell_type": "code",
      "source": [],
      "metadata": {
        "id": "B6v2jOVBrGAw"
      },
      "execution_count": null,
      "outputs": []
    }
  ]
}